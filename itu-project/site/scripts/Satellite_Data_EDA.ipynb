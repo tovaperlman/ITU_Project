{
 "cells": [
  {
   "cell_type": "code",
   "execution_count": 1,
   "metadata": {},
   "outputs": [],
   "source": [
    "# Our usual imports\n",
    "import pandas as pd\n",
    "import geopandas as gpd\n",
    "import numpy as np\n",
    "from numpy import asarray\n",
    "from matplotlib import pyplot as plt\n",
    "import json\n",
    "%matplotlib inline\n",
    "\n",
    "import ee\n",
    "import geemap\n",
    "\n",
    "# Initialize the Earth Engine module.\n",
    "ee.Initialize()"
   ]
  },
  {
   "cell_type": "markdown",
   "metadata": {},
   "source": [
    "## For loading a csv \n",
    "Here is the function to read and trim a csv dataframe and then convert it to a geopandas data frame from latitude and longitude points. If there is already a geometry column, one merely needs to transform the dataframe into a geopandas dataframe and set the crs. Additionally, if it is in geojson format, scroll down for the function for that.\n",
    "\n",
    "The key columns that you need for the csv to work is the school ID number (so that we can merge it back to the training dataframe), and the lat and lon points, if you have geometry, that also works)"
   ]
  },
  {
   "cell_type": "code",
   "execution_count": 2,
   "metadata": {},
   "outputs": [],
   "source": [
    "def df_transformation(filename, keep_columns_list):\n",
    "    #Read in the df\n",
    "    df = pd.read_csv(filename)\n",
    "    #list of columns we are choosing to keep\n",
    "    keep_columns = [ 'source_school_id','latitude','longitude']\n",
    "    #trimming to just the ones we want\n",
    "    df = df[keep_columns]\n",
    "    #Turning it into a geodataframe, creates another column called geometry. \n",
    "    #We need this to convert into Google Earth Feature Collection\n",
    "    gdf = gpd.GeoDataFrame(df, geometry=gpd.points_from_xy(df.longitude, df.latitude)).set_crs(epsg=4326)\n",
    "    return gdf"
   ]
  },
  {
   "cell_type": "code",
   "execution_count": 3,
   "metadata": {},
   "outputs": [
    {
     "ename": "FileNotFoundError",
     "evalue": "[Errno 2] No such file or directory: 'school_latlon_CLEAN.csv'",
     "output_type": "error",
     "traceback": [
      "\u001b[1;31m---------------------------------------------------------------------------\u001b[0m",
      "\u001b[1;31mFileNotFoundError\u001b[0m                         Traceback (most recent call last)",
      "\u001b[1;32m<ipython-input-3-9dd033c496c4>\u001b[0m in \u001b[0;36m<module>\u001b[1;34m\u001b[0m\n\u001b[0;32m      7\u001b[0m \u001b[0mkeep_columns_list\u001b[0m \u001b[1;33m=\u001b[0m \u001b[1;33m[\u001b[0m \u001b[1;34m'source_school_id'\u001b[0m\u001b[1;33m,\u001b[0m\u001b[1;34m'latitude'\u001b[0m\u001b[1;33m,\u001b[0m\u001b[1;34m'longitude'\u001b[0m\u001b[1;33m]\u001b[0m\u001b[1;33m\u001b[0m\u001b[1;33m\u001b[0m\u001b[0m\n\u001b[0;32m      8\u001b[0m \u001b[1;33m\u001b[0m\u001b[0m\n\u001b[1;32m----> 9\u001b[1;33m \u001b[0mdf\u001b[0m \u001b[1;33m=\u001b[0m \u001b[0mdf_transformation\u001b[0m\u001b[1;33m(\u001b[0m\u001b[0mfilename\u001b[0m\u001b[1;33m,\u001b[0m \u001b[0mkeep_columns_list\u001b[0m\u001b[1;33m)\u001b[0m\u001b[1;33m\u001b[0m\u001b[1;33m\u001b[0m\u001b[0m\n\u001b[0m\u001b[0;32m     10\u001b[0m \u001b[0mdf\u001b[0m\u001b[1;33m\u001b[0m\u001b[1;33m\u001b[0m\u001b[0m\n",
      "\u001b[1;32m<ipython-input-2-7f5c82e543db>\u001b[0m in \u001b[0;36mdf_transformation\u001b[1;34m(filename, keep_columns_list)\u001b[0m\n\u001b[0;32m      1\u001b[0m \u001b[1;32mdef\u001b[0m \u001b[0mdf_transformation\u001b[0m\u001b[1;33m(\u001b[0m\u001b[0mfilename\u001b[0m\u001b[1;33m,\u001b[0m \u001b[0mkeep_columns_list\u001b[0m\u001b[1;33m)\u001b[0m\u001b[1;33m:\u001b[0m\u001b[1;33m\u001b[0m\u001b[1;33m\u001b[0m\u001b[0m\n\u001b[0;32m      2\u001b[0m     \u001b[1;31m#Read in the df\u001b[0m\u001b[1;33m\u001b[0m\u001b[1;33m\u001b[0m\u001b[1;33m\u001b[0m\u001b[0m\n\u001b[1;32m----> 3\u001b[1;33m     \u001b[0mdf\u001b[0m \u001b[1;33m=\u001b[0m \u001b[0mpd\u001b[0m\u001b[1;33m.\u001b[0m\u001b[0mread_csv\u001b[0m\u001b[1;33m(\u001b[0m\u001b[0mfilename\u001b[0m\u001b[1;33m)\u001b[0m\u001b[1;33m\u001b[0m\u001b[1;33m\u001b[0m\u001b[0m\n\u001b[0m\u001b[0;32m      4\u001b[0m     \u001b[1;31m#list of columns we are choosing to keep\u001b[0m\u001b[1;33m\u001b[0m\u001b[1;33m\u001b[0m\u001b[1;33m\u001b[0m\u001b[0m\n\u001b[0;32m      5\u001b[0m     \u001b[0mkeep_columns\u001b[0m \u001b[1;33m=\u001b[0m \u001b[1;33m[\u001b[0m \u001b[1;34m'source_school_id'\u001b[0m\u001b[1;33m,\u001b[0m\u001b[1;34m'latitude'\u001b[0m\u001b[1;33m,\u001b[0m\u001b[1;34m'longitude'\u001b[0m\u001b[1;33m]\u001b[0m\u001b[1;33m\u001b[0m\u001b[1;33m\u001b[0m\u001b[0m\n",
      "\u001b[1;32m~\\Miniconda3\\envs\\musa-550-fall-2020\\lib\\site-packages\\pandas\\io\\parsers.py\u001b[0m in \u001b[0;36mread_csv\u001b[1;34m(filepath_or_buffer, sep, delimiter, header, names, index_col, usecols, squeeze, prefix, mangle_dupe_cols, dtype, engine, converters, true_values, false_values, skipinitialspace, skiprows, skipfooter, nrows, na_values, keep_default_na, na_filter, verbose, skip_blank_lines, parse_dates, infer_datetime_format, keep_date_col, date_parser, dayfirst, cache_dates, iterator, chunksize, compression, thousands, decimal, lineterminator, quotechar, quoting, doublequote, escapechar, comment, encoding, dialect, error_bad_lines, warn_bad_lines, delim_whitespace, low_memory, memory_map, float_precision)\u001b[0m\n\u001b[0;32m    684\u001b[0m     )\n\u001b[0;32m    685\u001b[0m \u001b[1;33m\u001b[0m\u001b[0m\n\u001b[1;32m--> 686\u001b[1;33m     \u001b[1;32mreturn\u001b[0m \u001b[0m_read\u001b[0m\u001b[1;33m(\u001b[0m\u001b[0mfilepath_or_buffer\u001b[0m\u001b[1;33m,\u001b[0m \u001b[0mkwds\u001b[0m\u001b[1;33m)\u001b[0m\u001b[1;33m\u001b[0m\u001b[1;33m\u001b[0m\u001b[0m\n\u001b[0m\u001b[0;32m    687\u001b[0m \u001b[1;33m\u001b[0m\u001b[0m\n\u001b[0;32m    688\u001b[0m \u001b[1;33m\u001b[0m\u001b[0m\n",
      "\u001b[1;32m~\\Miniconda3\\envs\\musa-550-fall-2020\\lib\\site-packages\\pandas\\io\\parsers.py\u001b[0m in \u001b[0;36m_read\u001b[1;34m(filepath_or_buffer, kwds)\u001b[0m\n\u001b[0;32m    450\u001b[0m \u001b[1;33m\u001b[0m\u001b[0m\n\u001b[0;32m    451\u001b[0m     \u001b[1;31m# Create the parser.\u001b[0m\u001b[1;33m\u001b[0m\u001b[1;33m\u001b[0m\u001b[1;33m\u001b[0m\u001b[0m\n\u001b[1;32m--> 452\u001b[1;33m     \u001b[0mparser\u001b[0m \u001b[1;33m=\u001b[0m \u001b[0mTextFileReader\u001b[0m\u001b[1;33m(\u001b[0m\u001b[0mfp_or_buf\u001b[0m\u001b[1;33m,\u001b[0m \u001b[1;33m**\u001b[0m\u001b[0mkwds\u001b[0m\u001b[1;33m)\u001b[0m\u001b[1;33m\u001b[0m\u001b[1;33m\u001b[0m\u001b[0m\n\u001b[0m\u001b[0;32m    453\u001b[0m \u001b[1;33m\u001b[0m\u001b[0m\n\u001b[0;32m    454\u001b[0m     \u001b[1;32mif\u001b[0m \u001b[0mchunksize\u001b[0m \u001b[1;32mor\u001b[0m \u001b[0miterator\u001b[0m\u001b[1;33m:\u001b[0m\u001b[1;33m\u001b[0m\u001b[1;33m\u001b[0m\u001b[0m\n",
      "\u001b[1;32m~\\Miniconda3\\envs\\musa-550-fall-2020\\lib\\site-packages\\pandas\\io\\parsers.py\u001b[0m in \u001b[0;36m__init__\u001b[1;34m(self, f, engine, **kwds)\u001b[0m\n\u001b[0;32m    934\u001b[0m             \u001b[0mself\u001b[0m\u001b[1;33m.\u001b[0m\u001b[0moptions\u001b[0m\u001b[1;33m[\u001b[0m\u001b[1;34m\"has_index_names\"\u001b[0m\u001b[1;33m]\u001b[0m \u001b[1;33m=\u001b[0m \u001b[0mkwds\u001b[0m\u001b[1;33m[\u001b[0m\u001b[1;34m\"has_index_names\"\u001b[0m\u001b[1;33m]\u001b[0m\u001b[1;33m\u001b[0m\u001b[1;33m\u001b[0m\u001b[0m\n\u001b[0;32m    935\u001b[0m \u001b[1;33m\u001b[0m\u001b[0m\n\u001b[1;32m--> 936\u001b[1;33m         \u001b[0mself\u001b[0m\u001b[1;33m.\u001b[0m\u001b[0m_make_engine\u001b[0m\u001b[1;33m(\u001b[0m\u001b[0mself\u001b[0m\u001b[1;33m.\u001b[0m\u001b[0mengine\u001b[0m\u001b[1;33m)\u001b[0m\u001b[1;33m\u001b[0m\u001b[1;33m\u001b[0m\u001b[0m\n\u001b[0m\u001b[0;32m    937\u001b[0m \u001b[1;33m\u001b[0m\u001b[0m\n\u001b[0;32m    938\u001b[0m     \u001b[1;32mdef\u001b[0m \u001b[0mclose\u001b[0m\u001b[1;33m(\u001b[0m\u001b[0mself\u001b[0m\u001b[1;33m)\u001b[0m\u001b[1;33m:\u001b[0m\u001b[1;33m\u001b[0m\u001b[1;33m\u001b[0m\u001b[0m\n",
      "\u001b[1;32m~\\Miniconda3\\envs\\musa-550-fall-2020\\lib\\site-packages\\pandas\\io\\parsers.py\u001b[0m in \u001b[0;36m_make_engine\u001b[1;34m(self, engine)\u001b[0m\n\u001b[0;32m   1166\u001b[0m     \u001b[1;32mdef\u001b[0m \u001b[0m_make_engine\u001b[0m\u001b[1;33m(\u001b[0m\u001b[0mself\u001b[0m\u001b[1;33m,\u001b[0m \u001b[0mengine\u001b[0m\u001b[1;33m=\u001b[0m\u001b[1;34m\"c\"\u001b[0m\u001b[1;33m)\u001b[0m\u001b[1;33m:\u001b[0m\u001b[1;33m\u001b[0m\u001b[1;33m\u001b[0m\u001b[0m\n\u001b[0;32m   1167\u001b[0m         \u001b[1;32mif\u001b[0m \u001b[0mengine\u001b[0m \u001b[1;33m==\u001b[0m \u001b[1;34m\"c\"\u001b[0m\u001b[1;33m:\u001b[0m\u001b[1;33m\u001b[0m\u001b[1;33m\u001b[0m\u001b[0m\n\u001b[1;32m-> 1168\u001b[1;33m             \u001b[0mself\u001b[0m\u001b[1;33m.\u001b[0m\u001b[0m_engine\u001b[0m \u001b[1;33m=\u001b[0m \u001b[0mCParserWrapper\u001b[0m\u001b[1;33m(\u001b[0m\u001b[0mself\u001b[0m\u001b[1;33m.\u001b[0m\u001b[0mf\u001b[0m\u001b[1;33m,\u001b[0m \u001b[1;33m**\u001b[0m\u001b[0mself\u001b[0m\u001b[1;33m.\u001b[0m\u001b[0moptions\u001b[0m\u001b[1;33m)\u001b[0m\u001b[1;33m\u001b[0m\u001b[1;33m\u001b[0m\u001b[0m\n\u001b[0m\u001b[0;32m   1169\u001b[0m         \u001b[1;32melse\u001b[0m\u001b[1;33m:\u001b[0m\u001b[1;33m\u001b[0m\u001b[1;33m\u001b[0m\u001b[0m\n\u001b[0;32m   1170\u001b[0m             \u001b[1;32mif\u001b[0m \u001b[0mengine\u001b[0m \u001b[1;33m==\u001b[0m \u001b[1;34m\"python\"\u001b[0m\u001b[1;33m:\u001b[0m\u001b[1;33m\u001b[0m\u001b[1;33m\u001b[0m\u001b[0m\n",
      "\u001b[1;32m~\\Miniconda3\\envs\\musa-550-fall-2020\\lib\\site-packages\\pandas\\io\\parsers.py\u001b[0m in \u001b[0;36m__init__\u001b[1;34m(self, src, **kwds)\u001b[0m\n\u001b[0;32m   1996\u001b[0m         \u001b[0mkwds\u001b[0m\u001b[1;33m[\u001b[0m\u001b[1;34m\"usecols\"\u001b[0m\u001b[1;33m]\u001b[0m \u001b[1;33m=\u001b[0m \u001b[0mself\u001b[0m\u001b[1;33m.\u001b[0m\u001b[0musecols\u001b[0m\u001b[1;33m\u001b[0m\u001b[1;33m\u001b[0m\u001b[0m\n\u001b[0;32m   1997\u001b[0m \u001b[1;33m\u001b[0m\u001b[0m\n\u001b[1;32m-> 1998\u001b[1;33m         \u001b[0mself\u001b[0m\u001b[1;33m.\u001b[0m\u001b[0m_reader\u001b[0m \u001b[1;33m=\u001b[0m \u001b[0mparsers\u001b[0m\u001b[1;33m.\u001b[0m\u001b[0mTextReader\u001b[0m\u001b[1;33m(\u001b[0m\u001b[0msrc\u001b[0m\u001b[1;33m,\u001b[0m \u001b[1;33m**\u001b[0m\u001b[0mkwds\u001b[0m\u001b[1;33m)\u001b[0m\u001b[1;33m\u001b[0m\u001b[1;33m\u001b[0m\u001b[0m\n\u001b[0m\u001b[0;32m   1999\u001b[0m         \u001b[0mself\u001b[0m\u001b[1;33m.\u001b[0m\u001b[0munnamed_cols\u001b[0m \u001b[1;33m=\u001b[0m \u001b[0mself\u001b[0m\u001b[1;33m.\u001b[0m\u001b[0m_reader\u001b[0m\u001b[1;33m.\u001b[0m\u001b[0munnamed_cols\u001b[0m\u001b[1;33m\u001b[0m\u001b[1;33m\u001b[0m\u001b[0m\n\u001b[0;32m   2000\u001b[0m \u001b[1;33m\u001b[0m\u001b[0m\n",
      "\u001b[1;32mpandas\\_libs\\parsers.pyx\u001b[0m in \u001b[0;36mpandas._libs.parsers.TextReader.__cinit__\u001b[1;34m()\u001b[0m\n",
      "\u001b[1;32mpandas\\_libs\\parsers.pyx\u001b[0m in \u001b[0;36mpandas._libs.parsers.TextReader._setup_parser_source\u001b[1;34m()\u001b[0m\n",
      "\u001b[1;31mFileNotFoundError\u001b[0m: [Errno 2] No such file or directory: 'school_latlon_CLEAN.csv'"
     ]
    }
   ],
   "source": [
    "#Need a csv with schools in points, lat and lon, \n",
    "#this reads it in assuming that the csv is saved in the same location as this notebook\n",
    "\n",
    "filename = 'school_latlon_CLEAN.csv'\n",
    "\n",
    "#list of columns we are choosing to keep\n",
    "keep_columns_list = [ 'source_school_id','latitude','longitude']\n",
    "\n",
    "df = df_transformation(filename, keep_columns_list)\n",
    "df"
   ]
  },
  {
   "cell_type": "markdown",
   "metadata": {},
   "source": [
    "## Reformatting for GEE\n",
    "Now we need to reformat our geopandas dataframe to a geojson feature collection that will be processed within the Google Earth Engine code. "
   ]
  },
  {
   "cell_type": "code",
   "execution_count": 4,
   "metadata": {},
   "outputs": [],
   "source": [
    "#Here is the function that turns a geopandas df into a feature collection and then sets a 5 km buffer around the schools\n",
    "def Feature_Collection(gdf, buffer_amount):\n",
    "    #Converting geopandas series, the geometry column to json\n",
    "    ROI = gpd.GeoSeries(gdf['geometry']).to_json()\n",
    "    # convert dictionary string to dictionary\n",
    "    res = json.loads(ROI)\n",
    "    #Converts dictionary object into a feature collection\n",
    "    Feature_Collection = geemap.geojson_to_ee(res, geodesic=True)\n",
    "    #Setting a 5 km buffer\n",
    "    Feature_Collection = Feature_Collection.map(lambda f: f.buffer(buffer_amount))\n",
    "    return Feature_Collection"
   ]
  },
  {
   "cell_type": "code",
   "execution_count": 12,
   "metadata": {},
   "outputs": [],
   "source": [
    "#Running the Feature Collection Function on the dataframe from the previous step, renamed it Feature_collection\n",
    "\n",
    "#Buffer is set in meters, we set at 5000 meters or 5 km \n",
    "buffer_amount = 5000\n",
    "\n",
    "schools = Feature_Collection(df, buffer_amount)"
   ]
  },
  {
   "cell_type": "code",
   "execution_count": 6,
   "metadata": {},
   "outputs": [],
   "source": [
    "#If you want to test out a few points, you can limit to the first five rows here, for now its commented out\n",
    "#roi = Feature_collection.limit(5)"
   ]
  },
  {
   "cell_type": "markdown",
   "metadata": {},
   "source": [
    "## Nighttime Imagery EDA"
   ]
  },
  {
   "cell_type": "markdown",
   "metadata": {},
   "source": [
    "### Brazil and Thailand Average Radiance for 2014 and 2019"
   ]
  },
  {
   "cell_type": "code",
   "execution_count": 13,
   "metadata": {},
   "outputs": [
    {
     "data": {
      "application/vnd.jupyter.widget-view+json": {
       "model_id": "3f45d1599c054e06b0aa2e4504d79224",
       "version_major": 2,
       "version_minor": 0
      },
      "text/plain": [
       "Map(center=[-10.613275552794567, -53.19823757236853], controls=(WidgetControl(options=['position', 'transparen…"
      ]
     },
     "metadata": {},
     "output_type": "display_data"
    }
   ],
   "source": [
    "## First we will show Brazil and Thailand Average Radiance for 2014 and 2019\n",
    "Brazil = ee.FeatureCollection(\"FAO/GAUL/2015/level0\").filter(ee.Filter.eq('ADM0_NAME', 'Brazil'))\n",
    "Thailand = ee.FeatureCollection(\"FAO/GAUL/2015/level0\").filter(ee.Filter.eq('ADM0_NAME', 'Thailand'))\n",
    "\n",
    "Brazil_avg_rad_2014 = ee.ImageCollection(\"NOAA/VIIRS/DNB/MONTHLY_V1/VCMSLCFG\").filterDate(\n",
    "    \"2014-07-01\",\"2014-12-31\").mean().select('avg_rad')\n",
    "\n",
    "Brazil_avg_rad_2019 = ee.ImageCollection(\"NOAA/VIIRS/DNB/MONTHLY_V1/VCMSLCFG\").filterDate(\n",
    "    \"2019-07-01\",\"2019-12-31\").mean().select('avg_rad')\n",
    "\n",
    "# set some thresholds\n",
    "vis_params = {\n",
    "  'min': 0,\n",
    "  'max': 100,\n",
    "    'palette': ['#000000',\n",
    "'#01122b',\n",
    "'#19568b',\n",
    "'#ecf3e7',\n",
    "'#ff0047']\n",
    "}\n",
    "\n",
    "colors = vis_params['palette']\n",
    "vmin = vis_params['min']\n",
    "vmax = vis_params['max']\n",
    "\n",
    "\n",
    "# initialize our map\n",
    "map1 = geemap.Map()\n",
    "map1.centerObject(Brazil, 5)\n",
    "#Add various layers, toggle to see different layers in the upper right corner\n",
    "map1.addLayer(Brazil_avg_rad_2014.clip(schools), vis_params, 'Avg Rad Brazil Schools 2014')\n",
    "map1.addLayer(Brazil_avg_rad_2019.clip(schools), vis_params, 'Avg Rad Brazil Schools 2019')\n",
    "map1.addLayer(Brazil_avg_rad_2014.clip(Brazil), vis_params, 'Avg Rad Brazil 2014')\n",
    "map1.addLayer(Brazil_avg_rad_2019.clip(Brazil), vis_params, 'Avg Rad Brazil 2019')\n",
    "map1.add_colorbar(vis_params, label=\"Average Radiance\", layer_name=\"Average Radiance\")\n",
    "map1.addLayerControl()\n",
    "map1.save(\"avg_rad_layers.html\")\n",
    "map1"
   ]
  },
  {
   "cell_type": "markdown",
   "metadata": {},
   "source": [
    "### Cloud Free Coverage"
   ]
  },
  {
   "cell_type": "code",
   "execution_count": 15,
   "metadata": {},
   "outputs": [
    {
     "data": {
      "application/vnd.jupyter.widget-view+json": {
       "model_id": "ffbdf29d6d094858a5fe6de7014e6a0d",
       "version_major": 2,
       "version_minor": 0
      },
      "text/plain": [
       "Map(center=[-10.613275552794567, -53.19823757236853], controls=(WidgetControl(options=['position', 'transparen…"
      ]
     },
     "metadata": {},
     "output_type": "display_data"
    }
   ],
   "source": [
    "## First we will show Brazil and Thailand Average Radiance for 2014 and 2019\n",
    "schools = Feature_collection\n",
    "\n",
    "#Choose if you want Brazil\n",
    "country =  ee.FeatureCollection(\"FAO/GAUL/2015/level0\").filter(ee.Filter.eq('ADM0_NAME', 'Brazil'))\n",
    "#Choose if you want Thailand\n",
    "# country = ee.FeatureCollection(\"FAO/GAUL/2015/level0\").filter(ee.Filter.eq('ADM0_NAME', 'Thailand'))\n",
    "\n",
    "#Select which band you want to display, for nighttime the two options are avg_rad (average radiance) or cf_cvg (cloud free coverage)\n",
    "#band = 'avg_rad'\n",
    "band = 'cf_cvg'\n",
    "\n",
    "#Takes the average of light emittance in 2014\n",
    "band_2014 = ee.ImageCollection(\"NOAA/VIIRS/DNB/MONTHLY_V1/VCMSLCFG\").filterDate(\n",
    "    \"2014-07-01\",\"2014-12-31\").mean().select(band)\n",
    "\n",
    "#Takes the average of light emittance in 2014\n",
    "band_2019 = ee.ImageCollection(\"NOAA/VIIRS/DNB/MONTHLY_V1/VCMSLCFG\").filterDate(\n",
    "    \"2019-07-01\",\"2019-12-31\").mean().select(band)\n",
    "\n",
    "# set some  visualization thresholds\n",
    "#cloud free layer has a much lower maximum than the average radiance\n",
    "vis_params = {\n",
    "  'min': 0,\n",
    "  'max': 15,\n",
    "    'palette': ['#000000',\n",
    "'#01122b',\n",
    "'#19568b',\n",
    "'#ecf3e7',\n",
    "'#ff0047']\n",
    "}\n",
    "\n",
    "colors = vis_params['palette']\n",
    "vmin = vis_params['min']\n",
    "vmax = vis_params['max']\n",
    "\n",
    "\n",
    "# initialize our map\n",
    "map1 = geemap.Map()\n",
    "map1.centerObject(Brazil, 5)\n",
    "#add each layer and clip it to either the school or country feature collection, establish the visualization parameters and name the layer\n",
    "map1.addLayer(band_2014.clip(schools), vis_params, band + ' Brazil Schools 2014')\n",
    "map1.addLayer(band_2019.clip(schools), vis_params, band + ' Brazil Schools 2019')\n",
    "map1.addLayer(band_2014.clip(country), vis_params, band + ' Brazil 2014')\n",
    "map1.addLayer(band_2019.clip(country), vis_params, band + ' Brazil 2019')\n",
    "map1.add_colorbar(vis_params, label=\"Cloud Free Coverage\", layer_name=\"Cloud Free Coverage\")\n",
    "map1.addLayerControl()\n",
    "#Save the map to files\n",
    "map1.save(\"cf_cvg_layers.html\")\n",
    "map1"
   ]
  },
  {
   "cell_type": "markdown",
   "metadata": {},
   "source": [
    "## Visualizing the change from 2015 to 2019 in Average Radiance by school points and then by country"
   ]
  },
  {
   "cell_type": "code",
   "execution_count": 17,
   "metadata": {
    "scrolled": false
   },
   "outputs": [
    {
     "data": {
      "application/vnd.jupyter.widget-view+json": {
       "model_id": "dc0220ce21c449548ea2f4d6a082141d",
       "version_major": 2,
       "version_minor": 0
      },
      "text/plain": [
       "Map(center=[-16.25755720467109, -45.45943692967088], controls=(ZoomControl(options=['position', 'zoom_in_text'…"
      ]
     },
     "metadata": {},
     "output_type": "display_data"
    }
   ],
   "source": [
    "#Select which band you want to display, for nighttime the two options are avg_rad (average radiance) or cf_cvg (cloud free coverage)\n",
    "band = 'avg_rad'\n",
    "# band = 'cf_cvg'\n",
    "\n",
    "# set some  visualization thresholds\n",
    "#cloud free layer has a much lower maximum than the average radiance\n",
    "vis_params = {\n",
    "  'min': 0,\n",
    "  'max': 100, #When its avg rad, the max should be 100\n",
    "    'palette': ['#000000',\n",
    "'#01122b',\n",
    "'#19568b',\n",
    "'#ecf3e7',\n",
    "'#ff0047']\n",
    "}\n",
    "\n",
    "colors = vis_params['palette']\n",
    "vmin = vis_params['min']\n",
    "vmax = vis_params['max']\n",
    "\n",
    "viirs2015 = ee.ImageCollection(\"NOAA/VIIRS/DNB/MONTHLY_V1/VCMSLCFG\").filterDate(\n",
    "    \"2014-07-01\",\"2014-12-31\").mean().select(band).clip(schools) #Here is where you clip it to just the school points\n",
    "viirs2019 = ee.ImageCollection(\"NOAA/VIIRS/DNB/MONTHLY_V1/VCMSLCFG\").filterDate(\n",
    "    \"2019-07-01\",\"2019-12-31\").mean().select(band).clip(schools) #Here is where you clip it to just the school points\n",
    "\n",
    "viirs_15_tile = geemap.ee_tile_layer(viirs2015, vis_params, 'Jul-Dec 2014', opacity=0.75)\n",
    "viirs_19_tile = geemap.ee_tile_layer(viirs2019, vis_params, 'Jul-Dec 2019', opacity=0.75)\n",
    "\n",
    "# initialize our map\n",
    "map2 = geemap.Map()\n",
    "map2.centerObject(roi, 10)\n",
    "map2.split_map(left_layer=viirs_15_tile, right_layer=viirs_19_tile)\n",
    "map2.add_colorbar(vis_params, label=\"Average Radiance\", layer_name=\"Average Radiance\")\n",
    "map2.addLayerControl()\n",
    "map2"
   ]
  },
  {
   "cell_type": "markdown",
   "metadata": {},
   "source": [
    "### Showing the change from 2014 to 2019 on a country level with the average radiance band"
   ]
  },
  {
   "cell_type": "code",
   "execution_count": 18,
   "metadata": {
    "scrolled": false
   },
   "outputs": [
    {
     "data": {
      "application/vnd.jupyter.widget-view+json": {
       "model_id": "7f51450d5b6c4175975bda3a39dd3f28",
       "version_major": 2,
       "version_minor": 0
      },
      "text/plain": [
       "Map(center=[-10.613275552794567, -53.19823757236853], controls=(ZoomControl(options=['position', 'zoom_in_text…"
      ]
     },
     "metadata": {},
     "output_type": "display_data"
    }
   ],
   "source": [
    "#Choose if you want Brazil\n",
    "country =  ee.FeatureCollection(\"FAO/GAUL/2015/level0\").filter(ee.Filter.eq('ADM0_NAME', 'Brazil'))\n",
    "#Choose if you want Thailand\n",
    "# country = ee.FeatureCollection(\"FAO/GAUL/2015/level0\").filter(ee.Filter.eq('ADM0_NAME', 'Thailand'))\n",
    "\n",
    "#Select which band you want to display, for nighttime the two options are avg_rad (average radiance) or cf_cvg (cloud free coverage)\n",
    "band = 'avg_rad'\n",
    "# band = 'cf_cvg'\n",
    "\n",
    "viirs2015 = ee.ImageCollection(\"NOAA/VIIRS/DNB/MONTHLY_V1/VCMSLCFG\").filterDate(\n",
    "    \"2014-07-01\",\"2014-12-31\").mean().select(band).clip(country) #Clipping it to the country of Brazil instead\n",
    "viirs2019 = ee.ImageCollection(\"NOAA/VIIRS/DNB/MONTHLY_V1/VCMSLCFG\").filterDate(\n",
    "    \"2019-07-01\",\"2019-12-31\").mean().select(band).clip(country)\n",
    "\n",
    "viirs_15_tile = geemap.ee_tile_layer(viirs2015, vis_params, 'Jul-Dec 2014', opacity=0.75)\n",
    "viirs_19_tile = geemap.ee_tile_layer(viirs2019, vis_params, 'Jul-Dec 2019', opacity=0.75)\n",
    "\n",
    "# initialize our map\n",
    "map2 = geemap.Map()\n",
    "map2.centerObject(country, 5)\n",
    "map2.split_map(left_layer=viirs_15_tile, right_layer=viirs_19_tile)\n",
    "map2.add_colorbar(vis_params, label=\"Average Radiance\", layer_name=\"Average Radiance\")\n",
    "map2.addLayerControl()\n",
    "map2"
   ]
  },
  {
   "cell_type": "markdown",
   "metadata": {},
   "source": [
    "### Showing the change from 2014 to 2019 on a country level with the cloud free coverage band"
   ]
  },
  {
   "cell_type": "code",
   "execution_count": 19,
   "metadata": {},
   "outputs": [
    {
     "data": {
      "application/vnd.jupyter.widget-view+json": {
       "model_id": "82656f428445465888a95aaec8d42015",
       "version_major": 2,
       "version_minor": 0
      },
      "text/plain": [
       "Map(center=[-10.613275552794567, -53.19823757236853], controls=(ZoomControl(options=['position', 'zoom_in_text…"
      ]
     },
     "metadata": {},
     "output_type": "display_data"
    }
   ],
   "source": [
    "#Choose if you want Brazil\n",
    "country =  ee.FeatureCollection(\"FAO/GAUL/2015/level0\").filter(ee.Filter.eq('ADM0_NAME', 'Brazil'))\n",
    "#Choose if you want Thailand\n",
    "# country = ee.FeatureCollection(\"FAO/GAUL/2015/level0\").filter(ee.Filter.eq('ADM0_NAME', 'Thailand'))\n",
    "\n",
    "#Select which band you want to display, for nighttime the two options are avg_rad (average radiance) or cf_cvg (cloud free coverage)\n",
    "# band = 'avg_rad'\n",
    "band = 'cf_cvg'\n",
    "\n",
    "# set some  visualization thresholds\n",
    "vis_params = {\n",
    "  'min': 0,\n",
    "  'max': 15, #max is at 15 for cf_cvg\n",
    "  'palette': ['#000000',\n",
    "'#01122b',\n",
    "'#19568b',\n",
    "'#ecf3e7',\n",
    "'#ff0047']\n",
    "}\n",
    "\n",
    "# colors = vis_params['palette']\n",
    "vmin = vis_params['min']\n",
    "vmax = vis_params['max']\n",
    "\n",
    "\n",
    "viirs2015 = ee.ImageCollection(\"NOAA/VIIRS/DNB/MONTHLY_V1/VCMSLCFG\").filterDate(\n",
    "    \"2014-07-01\",\"2014-12-31\").mean().select(band).clip(country)\n",
    "viirs2019 = ee.ImageCollection(\"NOAA/VIIRS/DNB/MONTHLY_V1/VCMSLCFG\").filterDate(\n",
    "    \"2019-07-01\",\"2019-12-31\").mean().select(band).clip(country)\n",
    "\n",
    "viirs_15_tile = geemap.ee_tile_layer(viirs2015, vis_params, 'Jul-Dec 2014', opacity=0.75)\n",
    "viirs_19_tile = geemap.ee_tile_layer(viirs2019, vis_params, 'Jul-Dec 2019', opacity=0.75)\n",
    "\n",
    "# initialize our map\n",
    "map2 = geemap.Map()\n",
    "map2.centerObject(country, 5)\n",
    "map2.split_map(left_layer=viirs_15_tile, right_layer=viirs_19_tile)\n",
    "map2.add_colorbar(vis_params, label=\"Cloud Free Coverage\", layer_name=\"Cloud Free Coverage\")\n",
    "map2.addLayerControl()\n",
    "map2"
   ]
  },
  {
   "cell_type": "markdown",
   "metadata": {},
   "source": [
    "## Visualizing the rate of change from 2014 to 2020 for Average radiance"
   ]
  },
  {
   "cell_type": "code",
   "execution_count": 20,
   "metadata": {},
   "outputs": [],
   "source": [
    "#Visualizing the rate of change from 2014 to 2020\n",
    "viirs = ee.ImageCollection(\"NOAA/VIIRS/DNB/MONTHLY_V1/VCMSLCFG\").filterDate(\n",
    "    '2014-01-01','2019-12-31')\n",
    "\n",
    "# sort by image \"time_end\"\n",
    "first_img = viirs.sort('system:time_end').first()\n",
    "\n",
    "# reverse sort so that last=first\n",
    "last_img = viirs.sort('system:time_end',False).first()\n",
    "\n",
    "# get rate of change (diff over # months: 73)\n",
    "viirs_slope = (last_img.select('avg_rad').subtract(first_img.select('avg_rad'))).divide(73).clip(roi)\n",
    "\n",
    "# get rate of change for cloud free coverage (diff over # months: 73)\n",
    "viirs_slope_cf_cvg = (last_img.select('cf_cvg').subtract(first_img.select('cf_cvg'))).divide(73).clip(roi)\n",
    "\n",
    "#Loading Nighttime Image and taking the mean\n",
    "viirs_first = ee.ImageCollection(\"NOAA/VIIRS/DNB/MONTHLY_V1/VCMSLCFG\").filterDate('2014-01-01','2014-12-31').mean()\n",
    "viirs_last = ee.ImageCollection(\"NOAA/VIIRS/DNB/MONTHLY_V1/VCMSLCFG\").filterDate('2019-01-01','2019-12-31').mean()\n",
    "\n",
    "# get rate of change (diff over # years: 6)\n",
    "viirs_slope_year = (viirs_last.select('avg_rad').subtract(viirs_first.select('avg_rad'))).divide(5).clip(roi)"
   ]
  },
  {
   "cell_type": "code",
   "execution_count": 22,
   "metadata": {},
   "outputs": [
    {
     "data": {
      "application/vnd.jupyter.widget-view+json": {
       "model_id": "c2fef44a2fe8449cbfaf4c39fa6bfa33",
       "version_major": 2,
       "version_minor": 0
      },
      "text/plain": [
       "Map(center=[-16.25755720467109, -45.45943692967088], controls=(WidgetControl(options=['position', 'transparent…"
      ]
     },
     "metadata": {},
     "output_type": "display_data"
    }
   ],
   "source": [
    "#change min, max to reflect the actual stats\n",
    "vis_params = {'min':-1,\n",
    "             'max':1,\n",
    "             'palette':['1d4877','1b8a5a','f68838','ee3e32']}\n",
    "\n",
    "colors = vis_params['palette']\n",
    "vmin = vis_params['min']\n",
    "vmax = vis_params['max']\n",
    "\n",
    "# make it opaque so we can see underlying basemap\n",
    "# initialize our map\n",
    "viirsMap = geemap.Map()\n",
    "viirsMap.centerObject(roi, 9)\n",
    "viirsMap.addLayer(viirs_slope, vis_params, '2014-2020 VIIRS-DNB monthly rate of change Avg Rad',opacity=.75)\n",
    "viirsMap.addLayer(viirs_slope_cf_cvg, vis_params, '2014-2020 VIIRS-DNB monthly rate of change Cloud Free',opacity=.75)\n",
    "viirsMap.addLayer(viirs_slope_year, vis_params, '2014-2020 VIIRS-DNB yearly rate of change Avg Rad',opacity=.75)\n",
    "viirsMap.add_colorbar(vis_params, label=\"Rate of Change\", layer_name=\"Rate of Change\")\n",
    "viirsMap.addLayerControl()\n",
    "viirsMap"
   ]
  },
  {
   "cell_type": "markdown",
   "metadata": {},
   "source": [
    "## Next, we show a map for the Global Human Modification Index"
   ]
  },
  {
   "cell_type": "code",
   "execution_count": 23,
   "metadata": {
    "scrolled": false
   },
   "outputs": [
    {
     "data": {
      "application/vnd.jupyter.widget-view+json": {
       "model_id": "fc79aea2bec843ccb66b7d5a42bee91e",
       "version_major": 2,
       "version_minor": 0
      },
      "text/plain": [
       "Map(center=[-10.613275552794567, -53.19823757236853], controls=(WidgetControl(options=['position', 'transparen…"
      ]
     },
     "metadata": {},
     "output_type": "display_data"
    }
   ],
   "source": [
    "### Global Human Modification\n",
    "Brazil = ee.FeatureCollection(\"FAO/GAUL/2015/level0\").filter(ee.Filter.eq('ADM0_NAME', 'Brazil'))\n",
    "\n",
    "GHM = ee.ImageCollection('CSP/HM/GlobalHumanModification').mean().clip(Brazil)\n",
    "\n",
    "# set some thresholds\n",
    "visualization = {\"min\": 0.0, \"max\": 1.0, \"palette\": ['0c0c0c', '071aff', 'ff0000', 'ffbd03', 'fbff05', 'fffdfd']}\n",
    "\n",
    "\n",
    "# initialize our map\n",
    "map1 = geemap.Map()\n",
    "map1.centerObject(Brazil, 6)\n",
    "map1.addLayer(GHM, visualization, 'Human modification')\n",
    "map1.add_colorbar(visualization, label=\"GHM\", layer_name=\"GHM\")\n",
    "map1.addLayerControl()\n",
    "map1"
   ]
  },
  {
   "cell_type": "markdown",
   "metadata": {},
   "source": [
    "## Using MODIS to find the Normalized Difference Vegetation Index"
   ]
  },
  {
   "cell_type": "code",
   "execution_count": 24,
   "metadata": {},
   "outputs": [
    {
     "data": {
      "application/vnd.jupyter.widget-view+json": {
       "model_id": "41ac87f6d8f84e049fc8d8ef861cbf39",
       "version_major": 2,
       "version_minor": 0
      },
      "text/plain": [
       "Map(center=[-10.613275552794567, -53.19823757236853], controls=(WidgetControl(options=['position', 'transparen…"
      ]
     },
     "metadata": {},
     "output_type": "display_data"
    }
   ],
   "source": [
    "### Normalized Difference Vegetation Index\n",
    "\n",
    "#Filtering the Modis Image Collection to the average of one month of data in 2019\n",
    "NDVI = ee.ImageCollection('MODIS/006/MOD13A2').filter(ee.Filter.date('2019-04-01', '2019-04-30')).select(\"NDVI\").mean()\n",
    "\n",
    "# set some thresholds\n",
    "vis_params = {\n",
    "  'min': 0,\n",
    "  'max': 9000,\n",
    "  'palette': [\n",
    "    'FFFFFF', 'CE7E45', 'DF923D', 'F1B555', 'FCD163', '99B718', '74A901',\n",
    "    '66A000', '529400', '3E8601', '207401', '056201', '004C00', '023B01',\n",
    "    '012E01', '011D01', '011301'\n",
    "  ],\n",
    "}\n",
    "\n",
    "colors = vis_params['palette']\n",
    "vmin = vis_params['min']\n",
    "vmax = vis_params['max']\n",
    "\n",
    "\n",
    "# initialize our map\n",
    "map1 = geemap.Map()\n",
    "map1.centerObject(Brazil, 5)\n",
    "map1.addLayer(NDVI.clip(Brazil), vis_params, 'NDVI Brazil') #clip it to Brazil, previously defined\n",
    "map1.addLayer(NDVI.clip(Thailand), vis_params, 'NDVI Thailand') #clip it to Thailand, previously defined\n",
    "map1.addLayer(NDVI.clip(schools), vis_params, 'NDVI Schools') #clip to schools, Brazil schools previously defined\n",
    "map1.add_colorbar(vis_params, label=\"NDVI\", layer_name=\"NDVI\")\n",
    "map1.addLayerControl()\n",
    "map1"
   ]
  },
  {
   "cell_type": "markdown",
   "metadata": {},
   "source": [
    "### Showing the change between 2014 and 2019 NDVI in country of choice"
   ]
  },
  {
   "cell_type": "code",
   "execution_count": 25,
   "metadata": {},
   "outputs": [
    {
     "data": {
      "application/vnd.jupyter.widget-view+json": {
       "model_id": "7d0546c9e71b43028a853d5a5878d91f",
       "version_major": 2,
       "version_minor": 0
      },
      "text/plain": [
       "Map(center=[-16.25755720467109, -45.45943692967088], controls=(ZoomControl(options=['position', 'zoom_in_text'…"
      ]
     },
     "metadata": {},
     "output_type": "display_data"
    }
   ],
   "source": [
    "#Choose if you want Brazil\n",
    "country =  ee.FeatureCollection(\"FAO/GAUL/2015/level0\").filter(ee.Filter.eq('ADM0_NAME', 'Brazil'))\n",
    "#Choose if you want Thailand\n",
    "# country = ee.FeatureCollection(\"FAO/GAUL/2015/level0\").filter(ee.Filter.eq('ADM0_NAME', 'Thailand'))\n",
    "\n",
    "# set some thresholds\n",
    "vis_params = {\n",
    "  'min': 0,\n",
    "  'max': 9000,\n",
    "  'palette': [\n",
    "    'FFFFFF', 'CE7E45', 'DF923D', 'F1B555', 'FCD163', '99B718', '74A901',\n",
    "    '66A000', '529400', '3E8601', '207401', '056201', '004C00', '023B01',\n",
    "    '012E01', '011D01', '011301'\n",
    "  ],\n",
    "}\n",
    "\n",
    "colors = vis_params['palette']\n",
    "vmin = vis_params['min']\n",
    "vmax = vis_params['max']\n",
    "\n",
    "#Using MODIS NDVI, filtering to April-May of that year as that is time when vegetation often the highest\n",
    "NDVI = ee.ImageCollection('MODIS/006/MOD13A2').filter(ee.Filter.date('2014-01-01', '2019-12-31')).select(\"NDVI\").mean()\n",
    "Modis_14 = ee.ImageCollection('MODIS/006/MOD13A2').filter(ee.Filter.date('2014-04-01', '2014-05-01')).select(\"NDVI\").mean()\n",
    "Modis_19 = ee.ImageCollection('MODIS/006/MOD13A2').filter(ee.Filter.date('2019-04-01', '2019-05-01')).select(\"NDVI\").mean()\n",
    "# create a split panel map\n",
    "left_layer = geemap.ee_tile_layer(Modis_14.clip(country), vis_params,\n",
    "                                  'VIIRS-DNB 2014', opacity=0.75)\n",
    "right_layer = geemap.ee_tile_layer(Modis_19.clip(country), vis_params,\n",
    "                                   'VIIRS-DNB 2019', opacity=0.75)\n",
    "\n",
    "map3 = geemap.Map()\n",
    "map3.centerObject(country, 5)\n",
    "# map3.add_basemap('SATELLITE')\n",
    "map3.split_map(left_layer=left_layer, right_layer=right_layer)\n",
    "map3.add_colorbar(vis_params, label=\"NDVI\", layer_name=\"NDVI\")\n",
    "map3.addLayerControl()\n",
    "map3"
   ]
  },
  {
   "cell_type": "markdown",
   "metadata": {},
   "source": [
    "### Showing the rate of change"
   ]
  },
  {
   "cell_type": "code",
   "execution_count": 30,
   "metadata": {},
   "outputs": [],
   "source": [
    "#Visualizing the rate of change from 2014 to 2020\n",
    "NDVI = ee.ImageCollection('MODIS/006/MOD13A2').filter(ee.Filter.date('2014-01-01', '2019-12-31')).select('NDVI').mean()\n",
    "\n",
    "# # sort by image \"time_end\"\n",
    "# first_img = NDVI.sort('system:time_end').first()\n",
    "\n",
    "# # reverse sort so that last=first\n",
    "# last_img = NDVI.sort('system:time_end',False).first()\n",
    "\n",
    "# # get rate of change (diff over # months: 73)\n",
    "# NDVI_slope = (last_img.select('NDVI').subtract(first_img.select('NDVI'))).divide(73).clip(roi)\n",
    "\n",
    "#Using MODIS NDVI, filtering to April-May of that year as that is time when vegetation often the highest\n",
    "Modis_14 = ee.ImageCollection('MODIS/006/MOD13A2').filter(ee.Filter.date('2014-04-01', '2014-05-01')).mean()\n",
    "Modis_19 = ee.ImageCollection('MODIS/006/MOD13A2').filter(ee.Filter.date('2019-04-01', '2019-05-01')).mean()\n",
    "\n",
    "# get rate of change (diff over # years: 6)\n",
    "NDVI_slope_year = (Modis_19.select('NDVI').subtract(Modis_14.select('NDVI'))).divide(6).clip(schools) #clipping to school buffer zones"
   ]
  },
  {
   "cell_type": "code",
   "execution_count": 31,
   "metadata": {},
   "outputs": [
    {
     "data": {
      "application/vnd.jupyter.widget-view+json": {
       "model_id": "3262504ace4f4bd689a339d5e24bd8ba",
       "version_major": 2,
       "version_minor": 0
      },
      "text/plain": [
       "Map(center=[-16.25755720467109, -45.45943692967088], controls=(WidgetControl(options=['position', 'transparent…"
      ]
     },
     "metadata": {},
     "output_type": "display_data"
    }
   ],
   "source": [
    "#change min, max to reflect the actual stats\n",
    "vis_params = {'min':-400,\n",
    "             'max':400,\n",
    "             'palette':['1d4877','1b8a5a','f68838','ee3e32']}\n",
    "\n",
    "colors = vis_params['palette']\n",
    "vmin = vis_params['min']\n",
    "vmax = vis_params['max']\n",
    "\n",
    "\n",
    "# make it opaque so we can see underlying basemap\n",
    "# initialize our map\n",
    "NDVIMap = geemap.Map()\n",
    "NDVIMap.centerObject(schools, 6)\n",
    "NDVIMap.addLayer(NDVI_slope_year, vis_params, 'NDVI Slope Yearly',opacity=.75)\n",
    "NDVIMap.add_colorbar(vis_params, label=\"Rate of Change\", layer_name=\"Rate of Change\")\n",
    "NDVIMap.addLayerControl()\n",
    "NDVIMap"
   ]
  },
  {
   "cell_type": "code",
   "execution_count": 32,
   "metadata": {},
   "outputs": [],
   "source": [
    "# MODIS MOD13Q1\n",
    "modis = ee.ImageCollection('MODIS/006/MOD13Q1')\n",
    "modis = modis.filterDate(ee.DateRange('2015-01-01','2019-12-01'))\n",
    "\n",
    "# select EVI and NDVI\n",
    "evi = modis.select('EVI')\n",
    "ndvi = modis.select('NDVI')\n",
    "\n",
    "def scale_factor(image):\n",
    "# scale factor for the MODIS MOD13Q1 product\n",
    "    return image.multiply(0.0001).copyProperties(image, ['system:time_start'])\n",
    "# mapping function to multiply by the scale factor\n",
    "scaled_evi = evi.map(scale_factor)\n",
    "scaled_ndvi = ndvi.map(scale_factor)"
   ]
  },
  {
   "cell_type": "code",
   "execution_count": 33,
   "metadata": {},
   "outputs": [
    {
     "data": {
      "application/vnd.jupyter.widget-view+json": {
       "model_id": "f18094c4a91f418389be86931b237eb2",
       "version_major": 2,
       "version_minor": 0
      },
      "text/plain": [
       "Map(center=[40, -100], controls=(WidgetControl(options=['position', 'transparent_bg'], widget=HBox(children=(T…"
      ]
     },
     "metadata": {},
     "output_type": "display_data"
    }
   ],
   "source": [
    "# mean NDVI in the Xingu Park\n",
    "Map5 = geemap.Map()\n",
    "Map5.addLayer(scaled_ndvi.mean().clip(Brazil),\n",
    "                  vis_params={'min': 0,\n",
    "                              'max': 1,\n",
    "                              'palette': ['red', 'yellow','green']})\n",
    "Map5.add_colorbar(vis_params, label=\"NDVI\", layer_name=\"NDVI\")\n",
    "Map5"
   ]
  }
 ],
 "metadata": {
  "kernelspec": {
   "display_name": "Python 3",
   "language": "python",
   "name": "python3"
  },
  "language_info": {
   "codemirror_mode": {
    "name": "ipython",
    "version": 3
   },
   "file_extension": ".py",
   "mimetype": "text/x-python",
   "name": "python",
   "nbconvert_exporter": "python",
   "pygments_lexer": "ipython3",
   "version": "3.7.8"
  }
 },
 "nbformat": 4,
 "nbformat_minor": 4
}
